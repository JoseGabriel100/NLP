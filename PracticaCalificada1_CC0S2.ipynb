{
  "cells": [
    {
      "cell_type": "markdown",
      "id": "e35a97d0",
      "metadata": {
        "id": "e35a97d0"
      },
      "source": [
        "## Primera práctica calificada\n",
        "\n",
        "**Nombre y Apellidos:**\n",
        "\n",
        "**Código:**\n",
        "\n",
        "### Reglas para la Prueba Calificada\n",
        "\n",
        "- Queda terminantemente prohibido el uso de herramientas como ChatGPT, WhatsApp, o cualquier herramienta similar durante la realización de esta prueba. El uso de estas herramientas, por cualquier motivo, resultará en la anulación inmediata de la evaluación.\n",
        "\n",
        "- Las respuestas deben presentarse con una explicación detallada, utilizando términos técnicos apropiados. La mera descripción sin el uso de terminología técnica, especialmente términos discutidos en clase, se considerará insuficiente y podrá resultar en que la respuesta sea marcada como incorrecta.\n",
        "\n",
        "\n",
        "- Cada estudiante debe presentar su propio trabajo. Los códigos iguales o muy parecidos entre sí serán considerados como una violación a la integridad académica, implicando una copia, y serán sancionados de acuerdo con las políticas de la universidad.\n",
        "\n",
        "- Todos los estudiantes deben subir sus repositorios de código a la plataforma del curso, según las instrucciones proporcionadas. La fecha y hora de la última actualización del repositorio serán consideradas como la hora de entrega.\n",
        "\n",
        "- La claridad, orden, y presentación general de las evaluaciones serán tomadas en cuenta en la calificación final. Se espera un nivel de profesionalismo en la documentación y presentación del código y las respuestas escritas.\n",
        "\n",
        "\n",
        "#### Instrucciones de entrega para la prueba calificada\n",
        "\n",
        "- Presenta la dirección de tu repositorio personal donde se encuentre este cuaderno con tus respuestas desarrolladas.\n",
        "- Todo cambio fuera de la hora y fecha del examen realizado dentro del repositorio no se tomará en cuenta y se procederá a anular la evaluación."
      ]
    },
    {
      "cell_type": "markdown",
      "id": "3c6884a0",
      "metadata": {
        "id": "3c6884a0"
      },
      "source": [
        "1 . Dividir un bloque de texto en subunidades significativas es una parte esencial del procesamiento de texto. El texto se puede dividir en caracteres o palabras individuales o en algún punto intermedio. A continuación se muestra un enfoque muy básico que divide el texto utilizando espacios en blanco. Ya existe un defecto, ya que la última palabra `dog` tiene puntuación.\n",
        "\n",
        "```\n",
        "'The quick brown fox jumps over the lazy dog.'.split(' ')\n",
        "```\n",
        "\n",
        "Con los modelos Transformer, realizamos tokenizaciones de subpalabras y dividimos el texto mediante un tokenizador prediseñado. Esto ha sido entrenado en una gran cantidad de texto donde ha aprendido cuáles son palabras comunes y cuáles son menos comunes y podrían dividirse en partes (que a menudo parecen sílabas).\n",
        "\n",
        "Primero, carguemos uno para un modelo de Transformer común `distilgpt2`. Podemos cargarlo con el siguiente código. El modelo distilgpt2 es un modelo más pequeño basado en gpt2 que vimos en clase, que es un predecesor del modelo de lenguaje que sustenta ChatGPT.\n",
        "\n",
        "```\n",
        "from transformers import AutoTokenizer\n",
        "\n",
        "tokenizer = AutoTokenizer.from_pretrained('distilgpt2')\n",
        "```\n",
        "\n",
        "El tokenizador tiene una función `tokenizer.tokenize`  que divide el texto, así como funciones como `tokenizer.vocab`, `tokenizer.encode`, `tokenizer.decode`. El tokenizador tiene muchos parámetros para brindar control adicional. Por ejemplo, a veces es necesario truncar cadenas muy largas (ya que existe un límite en la longitud de entrada a los modelos Transformer). Puedes utilizar la función `tokenizer.encode` para tokenizar una oración como \"Kelvingrove is a beautiful park in Glasgow.\" que puedes recortar a solo 5 tokens usando `truncation=True` y `max_length=5`.\n",
        "\n",
        "\n",
        "Revisa: https://huggingface.co/transformers/v3.0.2/model_doc/auto.html\n",
        "\n",
        "\n",
        "**Preguntas:**\n",
        "\n",
        "* Encuentra una palabra en inglés que sea tokenizada en 3, 4, 5 o incluso 6 subtokens con el tokenizador distilgpt2 (1 punto)\n",
        "* Escribe una función en Python  para tokenizar un texto y mostrar los tokens y sus IDs, también escribe una función que utilice el tokenizador `datificate/gpt2-small-spanish` para identificar palabras que se descomponen en 3, 4, 5 o 6 subtokens, lo cual es interesante para entender la granularidad del tokenizador (2 puntos).\n",
        "\n",
        "* Al tokenizar, utilizaremos el tokenizador con el parámetro `return_tensors='pt'`. Esto coloca los datos en el formato de un tensor PyTorch, que se utiliza como entrada para un modelo Transformer. PyTorch es una biblioteca comúnmente utilizada para el aprendizaje profundo y HuggingFace se basa en ella. No usaremos PyTorch directamente. Tokeniza: `\"A horse! a horse! my kingdom for a\"` (1 punto)\n",
        "\n",
        "* Implementar un script en Python que use AutoModelForCausalLM para cargar un modelo de lenguaje causal. El ejercicio consistirá en tokenizar un texto, pasarlo a un modelo Transformer, y luego analizar las probabilidades de los tokens generados para identificar el más probable. Revisa: https://huggingface.co/docs/transformers/tasks/language_modeling (3 puntos)\n"
      ]
    },
    {
      "cell_type": "markdown",
      "source": [
        "1.1"
      ],
      "metadata": {
        "id": "ekXu8IZWW7Y4"
      },
      "id": "ekXu8IZWW7Y4"
    },
    {
      "cell_type": "code",
      "source": [
        "from transformers import AutoTokenizer\n",
        "tokenizer = AutoTokenizer.from_pretrained('distilgpt2')\n",
        "\n",
        "word = 'threefoldness'\n",
        "print(f\"{word}: {tokenizer.tokenize(word)}\")"
      ],
      "metadata": {
        "colab": {
          "base_uri": "https://localhost:8080/"
        },
        "id": "tsM8HU0XMTKJ",
        "outputId": "6741ad9a-869c-4703-b30c-0f05ad60a119"
      },
      "id": "tsM8HU0XMTKJ",
      "execution_count": 1,
      "outputs": [
        {
          "output_type": "stream",
          "name": "stderr",
          "text": [
            "/usr/local/lib/python3.10/dist-packages/huggingface_hub/utils/_token.py:88: UserWarning: \n",
            "The secret `HF_TOKEN` does not exist in your Colab secrets.\n",
            "To authenticate with the Hugging Face Hub, create a token in your settings tab (https://huggingface.co/settings/tokens), set it as secret in your Google Colab and restart your session.\n",
            "You will be able to reuse this secret in all of your notebooks.\n",
            "Please note that authentication is recommended but still optional to access public models or datasets.\n",
            "  warnings.warn(\n"
          ]
        },
        {
          "output_type": "stream",
          "name": "stdout",
          "text": [
            "threefoldness: ['three', 'fold', 'ness']\n"
          ]
        }
      ]
    },
    {
      "cell_type": "markdown",
      "source": [
        "1.2"
      ],
      "metadata": {
        "id": "gxkVIVakW9KV"
      },
      "id": "gxkVIVakW9KV"
    },
    {
      "cell_type": "code",
      "source": [
        "import re\n",
        "# remueve caracteres especiales y lo retorna en minusculas\n",
        "def clean_text(text):\n",
        "  return re.sub('[^A-Za-z0-9]+', ' ', text).lower()\n",
        "\n",
        "def show_tokens_and_id(text, tokenizer):\n",
        "  text = clean_text(text)\n",
        "  tokens = text.split()\n",
        "  ids = tokenizer.convert_tokens_to_ids(tokens)\n",
        "  for id, token in zip(ids, tokens):\n",
        "    print(f\"id: {id}, token: {token}\")\n",
        "\n",
        "def show_words_with_subtokens_between_min_max(text, tokenizer, min, max):\n",
        "  text = clean_text(text)\n",
        "  tokens = text.split()\n",
        "  for token in tokens:\n",
        "    subtokens = tokenizer.tokenize(token)\n",
        "    if len(subtokens) >= min and len(subtokens) <= max:\n",
        "      print(f\"{token}: {subtokens}\")"
      ],
      "metadata": {
        "id": "WswwL0E2Uvcc"
      },
      "id": "WswwL0E2Uvcc",
      "execution_count": 2,
      "outputs": []
    },
    {
      "cell_type": "code",
      "source": [
        "text = \"\"\"\n",
        "Natural language processing (NLP) is the ability of a computer program to\n",
        "understand human language as it's spoken and written referred to as natural\n",
        "language. It's a component of artificial intelligence.\n",
        "\"\"\"\n",
        "\n",
        "tokenizer = AutoTokenizer.from_pretrained('distilgpt2')\n",
        "show_tokens_and_id(text, tokenizer)"
      ],
      "metadata": {
        "id": "cbf47j0tND19",
        "colab": {
          "base_uri": "https://localhost:8080/"
        },
        "outputId": "e0bfcfb7-1f91-4957-ee11-335c76430289"
      },
      "id": "cbf47j0tND19",
      "execution_count": 3,
      "outputs": [
        {
          "output_type": "stream",
          "name": "stdout",
          "text": [
            "id: 11802, token: natural\n",
            "id: 16129, token: language\n",
            "id: 36948, token: processing\n",
            "id: 50256, token: nlp\n",
            "id: 271, token: is\n",
            "id: 1169, token: the\n",
            "id: 1799, token: ability\n",
            "id: 1659, token: of\n",
            "id: 64, token: a\n",
            "id: 33215, token: computer\n",
            "id: 23065, token: program\n",
            "id: 1462, token: to\n",
            "id: 50256, token: understand\n",
            "id: 10734, token: human\n",
            "id: 16129, token: language\n",
            "id: 292, token: as\n",
            "id: 270, token: it\n",
            "id: 82, token: s\n",
            "id: 19842, token: spoken\n",
            "id: 392, token: and\n",
            "id: 15266, token: written\n",
            "id: 50256, token: referred\n",
            "id: 1462, token: to\n",
            "id: 292, token: as\n",
            "id: 11802, token: natural\n",
            "id: 16129, token: language\n",
            "id: 270, token: it\n",
            "id: 82, token: s\n",
            "id: 64, token: a\n",
            "id: 42895, token: component\n",
            "id: 1659, token: of\n",
            "id: 50256, token: artificial\n",
            "id: 32683, token: intelligence\n"
          ]
        }
      ]
    },
    {
      "cell_type": "code",
      "source": [
        "text = \"\"\"\n",
        "El procesamiento del lenguaje natural (PNL) es la capacidad de un programa informático de\n",
        "comprender el lenguaje humano tal como se habla y escribe, lo que se conoce como natural\n",
        "idioma. Es un componente de la inteligencia artificial.\n",
        "\"\"\"\n",
        "tokenizer = AutoTokenizer.from_pretrained('datificate/gpt2-small-spanish')\n",
        "show_words_with_subtokens_between_min_max(text, tokenizer, 3, 6)"
      ],
      "metadata": {
        "colab": {
          "base_uri": "https://localhost:8080/"
        },
        "id": "89R8TZmxZKAu",
        "outputId": "144e4665-6911-46aa-c375-10df1133ef9f"
      },
      "id": "89R8TZmxZKAu",
      "execution_count": 4,
      "outputs": [
        {
          "output_type": "stream",
          "name": "stdout",
          "text": [
            "pnl: ['p', 'n', 'l']\n",
            "componente: ['com', 'pon', 'ente']\n"
          ]
        }
      ]
    },
    {
      "cell_type": "markdown",
      "source": [
        "1.3"
      ],
      "metadata": {
        "id": "_ZWxxbsMbyD1"
      },
      "id": "_ZWxxbsMbyD1"
    },
    {
      "cell_type": "code",
      "source": [
        "text = \"A horse! a horse! my kingdom for a\"\n",
        "\n",
        "tokenizer = AutoTokenizer.from_pretrained('distilgpt2')\n",
        "text = clean_text(text)\n",
        "tokens = text.split()\n",
        "for token in tokens:\n",
        "  subtokens = tokenizer(token, return_tensors='pt')\n",
        "  print(f\"{token} ----> {subtokens.input_ids}\")"
      ],
      "metadata": {
        "colab": {
          "base_uri": "https://localhost:8080/"
        },
        "id": "REpeqJbfbz9O",
        "outputId": "a1c48384-a041-4f21-fc6b-0261663e9e5a"
      },
      "id": "REpeqJbfbz9O",
      "execution_count": 5,
      "outputs": [
        {
          "output_type": "stream",
          "name": "stdout",
          "text": [
            "a ----> tensor([[64]])\n",
            "horse ----> tensor([[30527]])\n",
            "a ----> tensor([[64]])\n",
            "horse ----> tensor([[30527]])\n",
            "my ----> tensor([[1820]])\n",
            "kingdom ----> tensor([[3364, 3438]])\n",
            "for ----> tensor([[1640]])\n",
            "a ----> tensor([[64]])\n"
          ]
        }
      ]
    },
    {
      "cell_type": "markdown",
      "source": [
        "1.4"
      ],
      "metadata": {
        "id": "K6TLgVPXfDCx"
      },
      "id": "K6TLgVPXfDCx"
    },
    {
      "cell_type": "code",
      "source": [
        "import torch\n",
        "from transformers import AutoModelForCausalLM"
      ],
      "metadata": {
        "id": "y1seth3AhNkA"
      },
      "id": "y1seth3AhNkA",
      "execution_count": 6,
      "outputs": []
    },
    {
      "cell_type": "code",
      "source": [
        "text = \"\"\"\n",
        "Natural language processing (NLP) is the ability of a computer program to\n",
        "understand human language as it's spoken and written referred to as natural\n",
        "language. It's a component of artificial intelligence.\n",
        "\"\"\"\n",
        "text = clean_text(text)"
      ],
      "metadata": {
        "id": "UnhZo681gddG"
      },
      "id": "UnhZo681gddG",
      "execution_count": 7,
      "outputs": []
    },
    {
      "cell_type": "code",
      "source": [
        "tokenizer = AutoTokenizer.from_pretrained('distilgpt2')\n",
        "inputs = tokenizer(text, return_tensors=\"pt\").input_ids\n",
        "\n",
        "model = AutoModelForCausalLM.from_pretrained(\"distilbert/distilgpt2\")\n",
        "outputs = model.generate(inputs, max_new_tokens=100, do_sample=True, top_k=50, top_p=0.95)\n",
        "\n",
        "tokenizer.batch_decode(outputs, skip_special_tokens=True)"
      ],
      "metadata": {
        "colab": {
          "base_uri": "https://localhost:8080/"
        },
        "id": "_XP7oztHfCLj",
        "outputId": "d573c720-a396-4570-a40e-e024b2bddf02"
      },
      "id": "_XP7oztHfCLj",
      "execution_count": 8,
      "outputs": [
        {
          "output_type": "stream",
          "name": "stderr",
          "text": [
            "The attention mask and the pad token id were not set. As a consequence, you may observe unexpected behavior. Please pass your input's `attention_mask` to obtain reliable results.\n",
            "Setting `pad_token_id` to `eos_token_id`:50256 for open-end generation.\n"
          ]
        },
        {
          "output_type": "execute_result",
          "data": {
            "text/plain": [
              "[' natural language processing nlp is the ability of a computer program to understand human language as it s spoken and written referred to as natural language it s a component of artificial intelligence 〈 (Linguistic, Cognitive, and Language Processing. (1993) p. 578-597) is a language processing system based on the computational method used for the processing of words that occur within a language context. (1997) p. 583-584 has been used to describe the cognitive and language processing methods used in the language context. (1998) p. 588-589 is a language processing system based on the computational method used for the processing of words that']"
            ]
          },
          "metadata": {},
          "execution_count": 8
        }
      ]
    },
    {
      "cell_type": "markdown",
      "id": "e017711b",
      "metadata": {
        "id": "e017711b"
      },
      "source": [
        "2 . En estos ejercicios se trata de profundizar en los modelos CBOW y Skim-Gram visto en clase:\n",
        "\n",
        "* Implementa un algoritmo para descubrir todos los 2-skip-2-gramas de una oración dada (2 puntos)\n",
        "* Expresa la función de pérdida únicamente como función de las entradas y los pesos, después de eliminar las variables de la capa oculta. (1 punto)\n",
        "\n",
        "* Calcula los gradientes de la función de pérdida con respecto a los pesos en las capas de entrada y salida (2 puntos)."
      ]
    },
    {
      "cell_type": "markdown",
      "source": [
        "2.1"
      ],
      "metadata": {
        "id": "kHwSp-G6SxIf"
      },
      "id": "kHwSp-G6SxIf"
    },
    {
      "cell_type": "code",
      "source": [
        "import re"
      ],
      "metadata": {
        "id": "6GYxC0fxRPRB"
      },
      "id": "6GYxC0fxRPRB",
      "execution_count": 9,
      "outputs": []
    },
    {
      "cell_type": "code",
      "source": [
        "text = \"\"\"\n",
        "Natural language processing (NLP) is the ability of a computer program to\n",
        "understand human language as it's spoken and written referred to as natural\n",
        "language. It's a component of artificial intelligence.\n",
        "\"\"\"\n",
        "\n",
        "text = clean_text(text)"
      ],
      "metadata": {
        "id": "w51d7W9LRMUG"
      },
      "id": "w51d7W9LRMUG",
      "execution_count": 10,
      "outputs": []
    },
    {
      "cell_type": "code",
      "source": [
        "words = text.split()\n",
        "# words"
      ],
      "metadata": {
        "id": "jikbaMkcRnqI"
      },
      "id": "jikbaMkcRnqI",
      "execution_count": 11,
      "outputs": []
    },
    {
      "cell_type": "code",
      "execution_count": 12,
      "id": "3469828f",
      "metadata": {
        "id": "3469828f",
        "colab": {
          "base_uri": "https://localhost:8080/"
        },
        "outputId": "f066f78c-0689-48f8-d7e0-62a46144fa5b"
      },
      "outputs": [
        {
          "output_type": "execute_result",
          "data": {
            "text/plain": [
              "[(['natural', 'language', 'nlp', 'is'], 'processing'),\n",
              " (['language', 'processing', 'is', 'the'], 'nlp'),\n",
              " (['processing', 'nlp', 'the', 'ability'], 'is'),\n",
              " (['nlp', 'is', 'ability', 'of'], 'the'),\n",
              " (['is', 'the', 'of', 'a'], 'ability'),\n",
              " (['the', 'ability', 'a', 'computer'], 'of'),\n",
              " (['ability', 'of', 'computer', 'program'], 'a'),\n",
              " (['of', 'a', 'program', 'to'], 'computer'),\n",
              " (['a', 'computer', 'to', 'understand'], 'program'),\n",
              " (['computer', 'program', 'understand', 'human'], 'to'),\n",
              " (['program', 'to', 'human', 'language'], 'understand'),\n",
              " (['to', 'understand', 'language', 'as'], 'human'),\n",
              " (['understand', 'human', 'as', 'it'], 'language'),\n",
              " (['human', 'language', 'it', 's'], 'as'),\n",
              " (['language', 'as', 's', 'spoken'], 'it'),\n",
              " (['as', 'it', 'spoken', 'and'], 's'),\n",
              " (['it', 's', 'and', 'written'], 'spoken'),\n",
              " (['s', 'spoken', 'written', 'referred'], 'and'),\n",
              " (['spoken', 'and', 'referred', 'to'], 'written'),\n",
              " (['and', 'written', 'to', 'as'], 'referred'),\n",
              " (['written', 'referred', 'as', 'natural'], 'to'),\n",
              " (['referred', 'to', 'natural', 'language'], 'as'),\n",
              " (['to', 'as', 'language', 'it'], 'natural'),\n",
              " (['as', 'natural', 'it', 's'], 'language'),\n",
              " (['natural', 'language', 's', 'a'], 'it'),\n",
              " (['language', 'it', 'a', 'component'], 's'),\n",
              " (['it', 's', 'component', 'of'], 'a'),\n",
              " (['s', 'a', 'of', 'artificial'], 'component'),\n",
              " (['a', 'component', 'artificial', 'intelligence'], 'of')]"
            ]
          },
          "metadata": {},
          "execution_count": 12
        }
      ],
      "source": [
        "data = []\n",
        "for i in range(2, len(words) - 2):\n",
        "    context = [words[i - 2], words[i - 1], words[i + 1], words[i + 2]]\n",
        "    target = words[i]\n",
        "    data.append((context, target))\n",
        "data"
      ]
    },
    {
      "cell_type": "markdown",
      "source": [
        "2.2"
      ],
      "metadata": {
        "id": "VLNdIil7S8qK"
      },
      "id": "VLNdIil7S8qK"
    },
    {
      "cell_type": "code",
      "source": [
        "import numpy as np\n",
        "def loss(inputs, weights_in, weights_out, target):\n",
        "  hidden_layer = np.dot(inputs, weights_in)\n",
        "  output_layer = np.dot(hidden_layer, weights_out)\n",
        "  return np.sum(np.square(target-weights_out))"
      ],
      "metadata": {
        "id": "EzUhMLFCSrem"
      },
      "id": "EzUhMLFCSrem",
      "execution_count": 13,
      "outputs": []
    },
    {
      "cell_type": "markdown",
      "id": "37b0c6e6",
      "metadata": {
        "id": "37b0c6e6"
      },
      "source": [
        "3 . De la actividad de modelos de lenguaje realizada en clase, las técnicas de suavizado, como el suavizado de Laplace, a menudo se agregan a los modelos de lenguaje de n-gramas para manejar probabilidades de 0. ¿Cómo podrías modificar tu código para incluirlo?.\n",
        "Puedes tambien experimentar con el suavizado de Good-Turing que ajusta las cuentas de los n-gramas basándose en la frecuencia de frecuencias de n-gramas. Es especialmente útil para redistribuir la masa de probabilidad a n-gramas no observados (2 puntos)\n",
        "\n",
        "De la misma actividad en los modelos que exploramos anteriormente, utilizamos suavizado. ¿Qué sucede con los cálculos de perplejidad cuando no se aplica el suavizado?  A veces se utiliza el suavizado interpolado o de \"back-off\" en los modelos de lenguaje de n-gramas. Esta técnica calcula la probabilidad promedio ponderada de modelos con diferentes valores de `n`. Implementa esto. ¿Cómo afecta esto la perplejidad en el conjunto de pruebas retenido? ¿Qué pasa con la perplejidad sobre los datos de entrenamiento? (3 puntos)\n",
        "\n",
        "\n",
        "El término 'Naïve' en la clasificación por Naïve Bayes se refiere a la suposición de independencia e idéntica distribución. Extiende el clasificador Naïve Bayes utilizando el concepto de modelado de lenguaje bigrama. El nuevo modelo pierde el atributo 'Naïve'. ¿Puedes integrar características de bolsa de palabras en este modelo utilizando técnicas de suavizado? (3 puntos)\n",
        "\n"
      ]
    },
    {
      "cell_type": "code",
      "execution_count": 14,
      "id": "0559b314",
      "metadata": {
        "id": "0559b314"
      },
      "outputs": [],
      "source": [
        "## Tus respuestas"
      ]
    }
  ],
  "metadata": {
    "kernelspec": {
      "display_name": "Python 3",
      "language": "python",
      "name": "python3"
    },
    "language_info": {
      "codemirror_mode": {
        "name": "ipython",
        "version": 3
      },
      "file_extension": ".py",
      "mimetype": "text/x-python",
      "name": "python",
      "nbconvert_exporter": "python",
      "pygments_lexer": "ipython3",
      "version": "3.8.13"
    },
    "colab": {
      "provenance": []
    }
  },
  "nbformat": 4,
  "nbformat_minor": 5
}